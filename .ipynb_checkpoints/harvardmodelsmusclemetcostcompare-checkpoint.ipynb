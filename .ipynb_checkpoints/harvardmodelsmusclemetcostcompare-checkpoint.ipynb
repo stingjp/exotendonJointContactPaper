{
 "cells": [
  {
   "cell_type": "code",
   "execution_count": 86,
   "metadata": {},
   "outputs": [],
   "source": [
    "import matplotlib as mpl\n",
    "import matplotlib.pyplot as plt\n",
    "import seaborn as sns"
   ]
  },
  {
   "cell_type": "code",
   "execution_count": 40,
   "metadata": {},
   "outputs": [],
   "source": [
    "from pandas import DataFrame\n",
    "import numpy as np"
   ]
  },
  {
   "cell_type": "code",
   "execution_count": 25,
   "metadata": {},
   "outputs": [],
   "source": [
    "simpledata = {'bifemsh_r': 0.0127524145881134,\n",
    "            'med_gas_r': 0.219043306645150,\n",
    "            'glut_max2_r': 0.108706061716261,\n",
    "            'psoas_r': 0.417125027370635,\n",
    "            'rect_fem_r': 0.0977590822690185,\n",
    "            'semimem_r': 0.135954103879877,\n",
    "            'soleus_r': 0.100470533825608,\n",
    "            'tib_ant_r': 0.0715838759620678,\n",
    "            'vas_int_r': 0.391804420403212,\n",
    "            'add_brev_r': 0.,\n",
    "            'add_long_r': 0.,\n",
    "            'add_mag3_r': 0.,\n",
    "            'add_mag4_r': 0.,\n",
    "            'add_mag2_r': 0.,\n",
    "            'add_mag1_r': 0.,\n",
    "            'bifemlh_r': 0.,\n",
    "            'ext_dig_r': 0.,\n",
    "            'ext_hal_r': 0.,\n",
    "            'flex_dig_r': 0.,\n",
    "            'flex_hal_r': 0.,\n",
    "            'lat_gas_r': 0.,\n",
    "            'glut_max1_r': 0.,\n",
    "            'glut_max3_r': 0.,\n",
    "            'glut_med1_r': 0.,\n",
    "            'glut_med2_r': 0.,\n",
    "            'glut_med3_r': 0.,\n",
    "            'glut_min1_r': 0.,\n",
    "            'glut_min2_r': 0.,\n",
    "            'glut_min3_r': 0.,\n",
    "            'grac_r': 0.,\n",
    "            'iliacus_r': 0.,\n",
    "            'per_brev_r': 0.,\n",
    "            'per_long_r': 0.,\n",
    "            'peri_r': 0.,\n",
    "            'sar_r': 0.,\n",
    "            'semiten_r': 0.,\n",
    "            'tfl_r': 0.,\n",
    "            'tib_post_r': 0.,\n",
    "            'vas_lat_r': 0.,\n",
    "            'vas_med_r': 0.\n",
    "}\n"
   ]
  },
  {
   "cell_type": "code",
   "execution_count": 26,
   "metadata": {},
   "outputs": [],
   "source": [
    "full5data = {\n",
    "    'add_brev_r': 0.00564810261066164,\n",
    "    'add_long_r': 0.117983833431297,\n",
    "    'add_mag3_r': 0.00768801900354819,\n",
    "    'add_mag4_r': 0.00653404725308580,\n",
    "    'add_mag2_r': 0.00596112776110050,\n",
    "    'add_mag1_r': 0.0231803884935933,\n",
    "    'bifemlh_r': 0.0992579863214243,\n",
    "    'bifemsh_r': 0.0291699939450509,\n",
    "    'ext_dig_r': 0.0148547594945434,\n",
    "    'ext_hal_r': 0.00168817076643928,\n",
    "    'flex_dig_r': 0.00144407391520929,\n",
    "    'flex_hal_r': 0.00334802034243464,\n",
    "    'lat_gas_r': 0.148356562708581,\n",
    "    'med_gas_r': 0.215770554396911,\n",
    "    'glut_max1_r': 0.0105383787079888,\n",
    "    'glut_max2_r': 0.321940929392352,\n",
    "    'glut_max3_r': 0.160302708338358,\n",
    "    'glut_med1_r': 0.230865964316406,\n",
    "    'glut_med2_r': 0.0414708053968808,\n",
    "    'glut_med3_r': 0.193772125923815,\n",
    "    'glut_min1_r': 0.00270825452153351,\n",
    "    'glut_min2_r': 0.00173543944868052,\n",
    "    'glut_min3_r': 0.00130419126111212,\n",
    "    'grac_r': 0.00444639024896116,\n",
    "    'iliacus_r': 0.195361778486448,\n",
    "    'per_brev_r': 0.00171230014646066,\n",
    "    'per_long_r': 0.00398201443313695,\n",
    "    'peri_r': 0.00234878057001067,\n",
    "    'psoas_r': 0.156955623843904,\n",
    "    'rect_fem_r': 0.281420128684299,\n",
    "    'sar_r': 0.0538613219156547,\n",
    "    'semimem_r': 0.194960546443497,\n",
    "    'semiten_r': 0.00805265113712300,\n",
    "    'soleus_r': 0.193049978509172,\n",
    "    'tfl_r': 0.114799323532375,\n",
    "    'tib_ant_r': 0.160676732220704,\n",
    "    'tib_post_r': 0.00460123935066745,\n",
    "    'vas_int_r': 0.0118269583493512,\n",
    "    'vas_lat_r': 0.597789872100058,\n",
    "    'vas_med_r': 0.0193471962012319\n",
    "}"
   ]
  },
  {
   "cell_type": "code",
   "execution_count": 27,
   "metadata": {},
   "outputs": [],
   "source": [
    "full3data = {\n",
    "    'add_brev_r': 0.00707121425749991,\n",
    "    'add_long_r': 0.173965222573633,\n",
    "    'add_mag3_r': 0.00969590253241314,\n",
    "    'add_mag4_r': 0.00808283849314621,\n",
    "    'add_mag2_r': 0.00806580715067742,\n",
    "    'add_mag1_r': 0.00526488892941596,\n",
    "    'bifemlh_r': 0.0265515755208342,\n",
    "    'bifemsh_r': 0.00435375984606701,\n",
    "    'ext_dig_r': 0.0181405591583261,\n",
    "    'ext_hal_r': 0.00160262685586284,\n",
    "    'flex_dig_r': 0.00168915038913247,\n",
    "    'flex_hal_r': 0.00397732896358722,\n",
    "    'lat_gas_r': 0.0426802868984945,\n",
    "    'med_gas_r': 0.193899686907871,\n",
    "    'glut_max1_r': 0.0110801826613248,\n",
    "    'glut_max2_r': 0.295094716947134,\n",
    "    'glut_max3_r': 0.0124836104570844,\n",
    "    'glut_med1_r': 0.00640225302086196,\n",
    "    'glut_med2_r': 0.00444944752008726,\n",
    "    'glut_med3_r': 0.00522451883254985,\n",
    "    'glut_min1_r': 0.00267749178025778,\n",
    "    'glut_min2_r': 0.00185769662880705,\n",
    "    'glut_min3_r': 0.00138997244274060,\n",
    "    'grac_r': 0.00499951618605592,\n",
    "    'iliacus_r': 0.0537725536183260,\n",
    "    'per_brev_r': 0.00201009422581975,\n",
    "    'per_long_r': 0.00465163409106190,\n",
    "    'peri_r': 0.00229331545491288,\n",
    "    'psoas_r': 0.0563662207828038,\n",
    "    'rect_fem_r': 0.130594503863438,\n",
    "    'sar_r': 0.0138378999861443,\n",
    "    'semimem_r': 0.234443950645435,\n",
    "    'semiten_r': 0.00929924781367349,\n",
    "    'soleus_r': 0.333305878890502,\n",
    "    'tfl_r': 0.00313531987128463,\n",
    "    'tib_ant_r': 0.112223354915780,\n",
    "    'tib_post_r': 0.00555983661607729,\n",
    "    'vas_int_r': 0.0125469713195860,\n",
    "    'vas_lat_r': 0.883353755427995,\n",
    "    'vas_med_r': 0.0200040877341812 \n",
    "}\n"
   ]
  },
  {
   "cell_type": "code",
   "execution_count": 49,
   "metadata": {},
   "outputs": [
    {
     "name": "stdout",
     "output_type": "stream",
     "text": [
      "[0.00707121425749991, 0.173965222573633, 0.00526488892941596, 0.00806580715067742, 0.00969590253241314, 0.00808283849314621, 0.0265515755208342, 0.00435375984606701, 0.0181405591583261, 0.00160262685586284, 0.00168915038913247, 0.00397732896358722, 0.0110801826613248, 0.295094716947134, 0.0124836104570844, 0.00640225302086196, 0.00444944752008726, 0.00522451883254985, 0.00267749178025778, 0.00185769662880705, 0.0013899724427406, 0.00499951618605592, 0.053772553618326, 0.0426802868984945, 0.193899686907871, 0.00201009422581975, 0.0046516340910619, 0.00229331545491288, 0.0563662207828038, 0.130594503863438, 0.0138378999861443, 0.234443950645435, 0.00929924781367349, 0.333305878890502, 0.00313531987128463, 0.11222335491578, 0.00555983661607729, 0.012546971319586, 0.883353755427995, 0.0200040877341812]\n",
      "[array([0.00707121, 0.17396522, 0.00526489, 0.00806581, 0.0096959 ,\n",
      "       0.00808284, 0.02655158, 0.00435376, 0.01814056, 0.00160263,\n",
      "       0.00168915, 0.00397733, 0.01108018, 0.29509472, 0.01248361,\n",
      "       0.00640225, 0.00444945, 0.00522452, 0.00267749, 0.0018577 ,\n",
      "       0.00138997, 0.00499952, 0.05377255, 0.04268029, 0.19389969,\n",
      "       0.00201009, 0.00465163, 0.00229332, 0.05636622, 0.1305945 ,\n",
      "       0.0138379 , 0.23444395, 0.00929925, 0.33330588, 0.00313532,\n",
      "       0.11222335, 0.00555984, 0.01254697, 0.88335376, 0.02000409]), array([0.0056481 , 0.11798383, 0.02318039, 0.00596113, 0.00768802,\n",
      "       0.00653405, 0.09925799, 0.02916999, 0.01485476, 0.00168817,\n",
      "       0.00144407, 0.00334802, 0.01053838, 0.32194093, 0.16030271,\n",
      "       0.23086596, 0.04147081, 0.19377213, 0.00270825, 0.00173544,\n",
      "       0.00130419, 0.00444639, 0.19536178, 0.14835656, 0.21577055,\n",
      "       0.0017123 , 0.00398201, 0.00234878, 0.15695562, 0.28142013,\n",
      "       0.05386132, 0.19496055, 0.00805265, 0.19304998, 0.11479932,\n",
      "       0.16067673, 0.00460124, 0.01182696, 0.59778987, 0.0193472 ]), array([0.        , 0.        , 0.        , 0.        , 0.        ,\n",
      "       0.        , 0.        , 0.01275241, 0.        , 0.        ,\n",
      "       0.        , 0.        , 0.        , 0.10870606, 0.        ,\n",
      "       0.        , 0.        , 0.        , 0.        , 0.        ,\n",
      "       0.        , 0.        , 0.        , 0.        , 0.21904331,\n",
      "       0.        , 0.        , 0.        , 0.41712503, 0.09775908,\n",
      "       0.        , 0.1359541 , 0.        , 0.10047053, 0.        ,\n",
      "       0.07158388, 0.        , 0.39180442, 0.        , 0.        ])]\n"
     ]
    }
   ],
   "source": [
    "xnames = sorted(full3data)\n",
    "val3 = []\n",
    "val5 = []\n",
    "valsimple = []\n",
    "for each in xnames:\n",
    "    val3.append(full3data[each])\n",
    "    val5.append(full5data[each])\n",
    "    valsimple.append(simpledata[each])\n",
    "print val3\n",
    "val3arr = np.array(val3)\n",
    "val5arr = np.array(val5)\n",
    "valsimplearr = np.array(valsimple)\n",
    "\n",
    "test = [val3arr,val5arr,valsimplearr]\n",
    "print test"
   ]
  },
  {
   "cell_type": "code",
   "execution_count": 52,
   "metadata": {},
   "outputs": [
    {
     "data": {
      "image/png": "[encoded data removed]",
      "text/plain": [
       "<Figure size 432x288 with 1 Axes>"
      ]
     },
     "metadata": {},
     "output_type": "display_data"
    }
   ],
   "source": [
    "# n_bins = 10\n",
    "# x = np.random.randn(1000, 3)\n",
    "\n",
    "# fig = plt.subplots(nrows=2, ncols=2)\n",
    "\n",
    "colors = ['red', 'tan', 'lime']\n",
    "plt.hist(test, histtype='bar', color=colors, label=colors)\n",
    "plt.legend(prop={'size': 10})\n",
    "# plt.set_title('bars with legend')\n",
    "\n",
    "plt.show()"
   ]
  },
  {
   "cell_type": "code",
   "execution_count": 92,
   "metadata": {},
   "outputs": [
    {
     "data": {
      "text/plain": [
       "<matplotlib.legend.Legend at 0x34eb05c0>"
      ]
     },
     "execution_count": 92,
     "metadata": {},
     "output_type": "execute_result"
    }
   ],
   "source": [
    "%matplotlib qt\n",
    "labels = xnames\n",
    "\n",
    "x = np.arange(len(labels))  # the label locations\n",
    "width = 0.8  # the width of the bars\n",
    "indwidth = width/3\n",
    "fig, ax = plt.subplots()\n",
    "fig.set_size_inches(11,8.5,forward=True)\n",
    "rects1 = ax.bar(x - (1.5*(width/3)), val3, indwidth, label='full muscle model - 3DOF', color='darkorange')\n",
    "rects2 = ax.bar(x - (0.5*width/3), val5, indwidth, label='full muscle model - 5DOF', color='mediumpurple')\n",
    "rects3 = ax.bar(x + (0.5*width/3), valsimple, indwidth, label='simple muscle model', color='limegreen')\n",
    "\n",
    "\n",
    "\n",
    "# Add some text for labels, title and custom x-axis tick labels, etc.\n",
    "ax.set_ylabel('Metabolic Cost [W/kg]', fontsize=14)\n",
    "# ax.set_title('')\n",
    "# cant get the yticks to be bigger\n",
    "fig.tight_layout()\n",
    "ax.set_xticks(x)\n",
    "ax.set_xticklabels(labels, rotation=60, ha='right', fontsize=14)\n",
    "ax.legend(fontsize=16)"
   ]
  },
  {
   "cell_type": "markdown",
   "metadata": {},
   "source": [
    "### here going to do the model muscle mass or volume comparison"
   ]
  },
  {
   "cell_type": "code",
   "execution_count": 100,
   "metadata": {},
   "outputs": [
    {
     "name": "stdout",
     "output_type": "stream",
     "text": [
      "3146.4250097\n",
      "for the simple model\n",
      "4253.536119368001\n",
      "for the full model\n"
     ]
    }
   ],
   "source": [
    "# simple model\n",
    "fom_simp = np.array([557.115, 4690.574, 3337.584, 2697.344, 2191.741, 4105.466, 7924.997, 2116.818, 9593.951])\n",
    "lom_simp = np.array([.1103, .051, .157, .1169, .0759, .096, .044, .0683, .0993])\n",
    "# full model\n",
    "fom_full = np.array([625.8197, 916.8, 597.2951, 597.2951, 597.2951, 597.2951, 1313.1836, 557.1148, 603.498, 285.8675, 423.177, 907.8393, 1575.059, 3115.5148, 983.7836, 1406.0459, 947.754, 1093.467, 765.0917, 871.1993, 374.0459, 394.8197, 446.7738, 281.3114, 1021.14098, 521.2016, 1115.3714, 1029.7869, 1426.7902, 2191.741, 249.4131, 2200.9869, 591.2951, 6194.8426, 411.2066, 1227.4525, 1730.1541, 1697.3606, 5148.7672, 2747.823])\n",
    "lom_full = np.array([.1031, .1082, .1772, .1562, .1377, .1056, .0976, .1103, .0693, .0748, .0446, .0527, .0588, .051, .147, .157, .167, .073, .073, .073, .068, .056, .038, .2278, .1066, .0454, .0508, .026, .1169, .0759, .403, .069, .193, .044, .095, .0683, .0378, .0993, .0994, .0968])\n",
    "\n",
    "\n",
    "simp = np.multiply(fom_simp, lom_simp)\n",
    "simp_sum = sum(simp)\n",
    "print simp_sum \n",
    "print \"for the simple model\"\n",
    "\n",
    "full = np.multiply(fom_full, lom_full)\n",
    "full_sum = sum(full)\n",
    "print full_sum\n",
    "print 'for the full model'"
   ]
  },
  {
   "cell_type": "code",
   "execution_count": null,
   "metadata": {},
   "outputs": [],
   "source": [
    "## conclusion based on this - if this is actually the metric that \n",
    "## can be used to compare the muscle masses of the models, then we \n",
    "## are not matching up. "
   ]
  },
  {
   "cell_type": "markdown",
   "metadata": {},
   "source": [
    "looked at the spreadsheet from carmichael. he is missing a few muscles it looks like in his calculations that are in the rajagopal 2015 model. I did the calculations for those muscles and they add up to 350.7 for F*l\n",
    "\n",
    "that does not make up the difference between the models. so further I need to figure out what the difference between the models really is. "
   ]
  },
  {
   "cell_type": "markdown",
   "metadata": {},
   "source": [
    "I added up all the muscles that seem to be used to simplify the model to carmichaels and the calculation comes to:\n",
    "\n",
    "3204\n",
    "\n",
    "This could be just due to rounding. \n"
   ]
  },
  {
   "cell_type": "code",
   "execution_count": null,
   "metadata": {},
   "outputs": [],
   "source": []
  }
 ],
 "metadata": {
  "kernelspec": {
   "display_name": "Python 2",
   "language": "python",
   "name": "python2"
  },
  "language_info": {
   "codemirror_mode": {
    "name": "ipython",
    "version": 2
   },
   "file_extension": ".py",
   "mimetype": "text/x-python",
   "name": "python",
   "nbconvert_exporter": "python",
   "pygments_lexer": "ipython2",
   "version": "2.7.15"
  }
 },
 "nbformat": 4,
 "nbformat_minor": 2
}
